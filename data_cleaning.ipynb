{
  "nbformat": 4,
  "nbformat_minor": 0,
  "metadata": {
    "colab": {
      "name": "data_cleaning.ipynb",
      "provenance": [],
      "collapsed_sections": []
    },
    "kernelspec": {
      "name": "python3",
      "display_name": "Python 3"
    }
  },
  "cells": [
    {
      "cell_type": "code",
      "metadata": {
        "id": "AYgtz1sTG_GK",
        "colab_type": "code",
        "colab": {}
      },
      "source": [
        "from google.colab import drive\n",
        "drive.mount('/content/gdrive')"
      ],
      "execution_count": null,
      "outputs": []
    },
    {
      "cell_type": "code",
      "metadata": {
        "id": "ZOUQ75sUeMma",
        "colab_type": "code",
        "colab": {}
      },
      "source": [
        "!cp '/content/gdrive/My Drive/smaller_subset.zip' 'smaller_subset.zip'\n",
        "!ls -al"
      ],
      "execution_count": null,
      "outputs": []
    },
    {
      "cell_type": "code",
      "metadata": {
        "id": "HlmO048xfGH_",
        "colab_type": "code",
        "colab": {}
      },
      "source": [
        "!unzip \"smaller_subset.zip\""
      ],
      "execution_count": null,
      "outputs": []
    },
    {
      "cell_type": "code",
      "metadata": {
        "id": "p0h45T9gCmrN",
        "colab_type": "code",
        "colab": {}
      },
      "source": [
        "import os\n",
        "\n",
        "def parseEmail(text):\n",
        "    lines = text.split(\"\\n\")\n",
        "    messages = []\n",
        "    message = ''\n",
        "    for i in range(len(lines)):\n",
        "        line = lines[i]\n",
        "        is_separator = \"---------------------- Forwarded by\" in line or \"-----Original Message\" in line\n",
        "        if is_separator:\n",
        "            messages.append(message)\n",
        "            message = line\n",
        "        elif ':' in line:\n",
        "            continue\n",
        "        else:\n",
        "            message += (line + \"\\n\")\n",
        "    messages.append(message)\n",
        "    return messages \n",
        "\n",
        "message_to_filename = {}\n",
        "to_remove = []\n",
        "total_files = 0\n",
        "def removeDuplicates(directory):\n",
        "    for root, directories, filenames in os.walk(directory):\n",
        "        for directory in directories:\n",
        "            removeDuplicates(directory)\n",
        "        for filename in filenames:\n",
        "            try:\n",
        "                path = os.path.join(root, filename)\n",
        "                text = open(path, encoding='ascii').read().strip()\n",
        "                messages = parseEmail(text)\n",
        "                if not any(message in message_to_filename for message in messages):\n",
        "                    for message in messages:\n",
        "                        message_to_filename[message] = path\n",
        "                else:\n",
        "                    to_remove.append(path)\n",
        "                global total_files\n",
        "                total_files += 1\n",
        "            except:\n",
        "                continue"
      ],
      "execution_count": null,
      "outputs": []
    },
    {
      "cell_type": "code",
      "metadata": {
        "id": "ZgBrVszQCpT3",
        "colab_type": "code",
        "colab": {}
      },
      "source": [
        "removeDuplicates('smaller_subset')\n",
        "print(\"to remove: \" + str(len(to_remove)))\n",
        "print(\"total number of files: \" + str(total_files))\n",
        "for file in to_remove:\n",
        "  !rm $file\n",
        "  print(file)\n",
        "  \n",
        "!zip -r smaller_subset-cleaned.zip smaller_subset"
      ],
      "execution_count": null,
      "outputs": []
    },
    {
      "cell_type": "code",
      "metadata": {
        "id": "BNSKGUDcTiN-",
        "colab_type": "code",
        "colab": {}
      },
      "source": [
        "!cp 'smaller_subset-cleaned.zip' '/content/gdrive/My Drive/smaller_subset-cleaned.zip'"
      ],
      "execution_count": null,
      "outputs": []
    }
  ]
}